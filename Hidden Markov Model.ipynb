{
 "cells": [
  {
   "cell_type": "code",
   "execution_count": 1,
   "metadata": {},
   "outputs": [],
   "source": [
    "import numpy as np\n",
    "import tensorflow as tf"
   ]
  },
  {
   "attachments": {
    "hidden-markov-model.png": {
     "image/png": "[encoded data removed]"
    }
   },
   "cell_type": "markdown",
   "metadata": {},
   "source": [
    "__Forward algorithm__ is used to calcualte a _belief state_ - the probability of a state a a certain time $t$ given a history of observations $y()$ and the previous state $x_{t-1}$. The probability for the _belief state_ is written as $P(x_t|y_{1:t})$.\n",
    "\n",
    "Below is a example of a hidden markov model where $x$ is the hidden state and $y$ is the observations.\n",
    "\n",
    "![hidden-markov-model.png](attachment:hidden-markov-model.png)\n"
   ]
  },
  {
   "cell_type": "code",
   "execution_count": 5,
   "metadata": {},
   "outputs": [],
   "source": [
    "class HMM(object):\n",
    "    def __init__(self, initial_prob, trans_prob, obs_prob):\n",
    "        # Store parameters\n",
    "        self.N = np.size(initial_prob)\n",
    "        self.initial_prob = initial_prob\n",
    "        self.trans_prob = trans_prob\n",
    "        self.emission = tf.constant(obs_prob)\n",
    "        \n",
    "        # Sanity check matrices\n",
    "        assert self.initial_prob.shape == (self.N,1)\n",
    "        assert self.trans_prob.shape == (self.N, self.N)\n",
    "        assert obs_prob.shape[0] == self.N\n",
    "        \n",
    "        # Placehodler for forward-algorithm\n",
    "        self.obs_idx = tf.placeholder(tf.int32)\n",
    "        self.fwd = tf.placeholder(tf.float64)\n",
    "        \n",
    "    # Helper function to access a row from the emission matrix.\n",
    "    def get_emission(self, obs_idx):\n",
    "        # Where to slice amtrix\n",
    "        slice_location = [0, obs_idx]\n",
    "        num_rows = tf.shape(self.emission)[0]\n",
    "        slice_shape = [num_rows, 1]\n",
    "        return tf.slice(self.emission, slice_location, slice_shape)\n",
    "    \n",
    "    # Init forward_algorithms cache\n",
    "    def forward_init_op(self):\n",
    "        obs_prob = self.get_emission(self.obs_idx)\n",
    "        fwd = tf.multiply(self.initial_prob, obs_prob)\n",
    "        return fwd\n",
    "    \n",
    "    # Update cache after each observation\n",
    "    # Executing a forward stop\n",
    "    def forward_op(self):\n",
    "        transitions = tf.matmul(self.fwd, tf.transpose(self.get_emission(self.obs_idx)))\n",
    "        weighted_transitions = transitions * self.trans_prob\n",
    "        fwd = tf.reduce_sum(weighted_transitions, 0)\n",
    "        return tf.reshape(fwd, tf.shape(self.fwd))"
   ]
  },
  {
   "cell_type": "code",
   "execution_count": 6,
   "metadata": {},
   "outputs": [],
   "source": [
    "# Forward algorithm\n",
    "def forward_algorithm(sess, hmm, observations):\n",
    "    fwd = sess.run(hmm.forward_init_op(), feed_dict={hmm.obs_idx: observations[0]})\n",
    "    for t in range(1, len(observations)):\n",
    "        fwd = sess.run(hmm.forward_op(), feed_dict={hmm.obs_idx: observations[t], hmm.fwd: fwd})\n",
    "    prob = sess.run(tf.reduce_sum(fwd))\n",
    "    return prob"
   ]
  },
  {
   "cell_type": "markdown",
   "metadata": {},
   "source": [
    "```\n",
    "states = ('Rainy', 'Sunny')\n",
    "\n",
    "observations_lookup = ('walk', 'shop', 'clean')\n",
    "\n",
    "observations = {'walk', 'shop', 'shop', 'clean'. 'shop'}\n",
    "\n",
    "start_probability = {'Rainy': 0.6, 'Sunny': 0.4}\n",
    "\n",
    "transition_probability = \n",
    "{\n",
    "  'Rainy : {'Rainy': 0.7, 'Sunny': 0.3},\n",
    "  'Sunny': {'Rainy': 0.4, 'Sunny': 0.6},\n",
    "}\n",
    "\n",
    "emission_probability = \n",
    "{\n",
    "   'Rainy : {'walk': 0.1, 'shop': 0.4, 'clean': 0.5},\n",
    "   'Sunny': {'walk': 0.6, 'shop': 0.3, 'clean': 0.1},\n",
    "}\n",
    "\n",
    "```"
   ]
  },
  {
   "cell_type": "code",
   "execution_count": 7,
   "metadata": {
    "scrolled": false
   },
   "outputs": [
    {
     "name": "stdout",
     "output_type": "stream",
     "text": [
      "Probability of observing [0, 1, 1, 2, 1] is 0.004540300799999999\n"
     ]
    }
   ],
   "source": [
    "if __name__ == '__main__':\n",
    "    # Initial probability vector\n",
    "    initial_prob = np.array([[0.6],[0.4]])\n",
    "    \n",
    "    # Transition probability matrix\n",
    "    trans_prob = np.array([[0.7, 0.3],\n",
    "                           [0.4, 0.6]])\n",
    "    \n",
    "    # Emission probability matrix\n",
    "    obs_prob = np.array([[0.1, 0.4, 0.5],\n",
    "                         [0.6, 0.3, 0.1]])\n",
    "    \n",
    "    hmm = HMM(initial_prob=initial_prob, trans_prob=trans_prob,obs_prob=obs_prob)\n",
    "    observations = [0, 1, 1, 2, 1]\n",
    "    \n",
    "    with tf.Session() as sess:\n",
    "        prob = forward_algorithm(sess, hmm, observations)\n",
    "        print('Probability of observing {} is {}'.format(observations, prob))"
   ]
  },
  {
   "cell_type": "code",
   "execution_count": null,
   "metadata": {},
   "outputs": [],
   "source": []
  },
  {
   "cell_type": "code",
   "execution_count": null,
   "metadata": {},
   "outputs": [],
   "source": []
  }
 ],
 "metadata": {
  "kernelspec": {
   "display_name": "Python 3",
   "language": "python",
   "name": "python3"
  },
  "language_info": {
   "codemirror_mode": {
    "name": "ipython",
    "version": 3
   },
   "file_extension": ".py",
   "mimetype": "text/x-python",
   "name": "python",
   "nbconvert_exporter": "python",
   "pygments_lexer": "ipython3",
   "version": "3.6.2"
  }
 },
 "nbformat": 4,
 "nbformat_minor": 2
}
