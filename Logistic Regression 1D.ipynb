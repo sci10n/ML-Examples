{
 "cells": [
  {
   "cell_type": "code",
   "execution_count": 35,
   "metadata": {},
   "outputs": [],
   "source": [
    "import tensorflow as tf\n",
    "import numpy as np\n",
    "import matplotlib.pyplot as plt"
   ]
  },
  {
   "cell_type": "code",
   "execution_count": 121,
   "metadata": {},
   "outputs": [],
   "source": [
    "x_label0 = np.random.normal(-6,2,1000)\n",
    "x_label1 = np.random.normal(6,2,1000)\n",
    "\n",
    "xs = np.append(x_label0,x_label1)\n",
    "ys = np.asarray([0.] * len(x_label0) + [1.] * len(x_label1))"
   ]
  },
  {
   "cell_type": "code",
   "execution_count": 122,
   "metadata": {},
   "outputs": [],
   "source": [
    "def sigmoid(x):\n",
    "    return  1.0 / (1.0 + np.exp(-x))\n"
   ]
  },
  {
   "cell_type": "code",
   "execution_count": 123,
   "metadata": {},
   "outputs": [],
   "source": [
    "learning_rate = 0.01\n",
    "training_epoch = 1000\n",
    "\n",
    "train_loss = np.zeros(training_epoch)"
   ]
  },
  {
   "cell_type": "code",
   "execution_count": 124,
   "metadata": {},
   "outputs": [
    {
     "name": "stdout",
     "output_type": "stream",
     "text": [
      "<tf.Variable 'weights_16:0' shape=(2,) dtype=float32_ref>\n"
     ]
    }
   ],
   "source": [
    "X = tf.placeholder(tf.float32, shape=(None,), name='x')\n",
    "Y = tf.placeholder(tf.float32, shape=(None,), name='y')\n",
    "\n",
    "# Added w[0] as bias\n",
    "def model(X, w):\n",
    "    return tf.sigmoid(tf.add(tf.multiply(X,w[1]),w[0]))\n",
    "\n",
    "w = tf.Variable([0.0,0.0], name=\"weights\", trainable=True)\n",
    "\n",
    "print(w)\n",
    "y_model = model(X,w)\n",
    "cost = tf.reduce_mean(-Y * tf.log(y_model) - (1-Y)*tf.log(1-y_model))\n",
    "\n",
    "train_op = tf.train.GradientDescentOptimizer(learning_rate).minimize(cost)"
   ]
  },
  {
   "cell_type": "code",
   "execution_count": 148,
   "metadata": {},
   "outputs": [
    {
     "name": "stdout",
     "output_type": "stream",
     "text": [
      "accuracy 0.979\n"
     ]
    }
   ],
   "source": [
    "sess = tf.Session()\n",
    "init = tf.global_variables_initializer()\n",
    "sess.run(init)\n",
    "\n",
    "for epoch in range(training_epoch):\n",
    "    prev_err = 0\n",
    "    _, train_loss[epoch] = sess.run([train_op, cost], feed_dict={X: xs, Y: ys})\n",
    "    if abs(prev_err - train_loss[epoch]) < 0.0001:\n",
    "        break\n",
    "    prev_err = train_loss[epoch]\n",
    "w_val = sess.run(w,feed_dict={X: xs, Y: ys})\n",
    "\n",
    "correct_prediction = tf.equal(Y,tf.to_float(tf.greater(y_model,0.5)))\n",
    "accuracy = tf.reduce_mean(tf.to_float(correct_prediction))\n",
    "print('accuracy', sess.run(accuracy, feed_dict={X:xs, Y:ys}))\n",
    "\n",
    "sess.close()"
   ]
  },
  {
   "cell_type": "markdown",
   "metadata": {},
   "source": []
  },
  {
   "cell_type": "code",
   "execution_count": 158,
   "metadata": {},
   "outputs": [
    {
     "data": {
      "image/png": "[encoded data removed]",
      "text/plain": [
       "<Figure size 432x288 with 1 Axes>"
      ]
     },
     "metadata": {},
     "output_type": "display_data"
    }
   ],
   "source": [
    "all_xs = np.linspace(-10,10,100)\n",
    "with tf.Session() as sess:\n",
    "    predicted = sess.run(tf.sigmoid(all_xs * w_val[1] + w_val[0]))\n",
    "    \n",
    "plt.plot(all_xs,predicted)\n",
    "plt.scatter(xs,ys,c=sigmoid(xs*w_val[1] + w_val[0]))\n",
    "plt.show()"
   ]
  },
  {
   "cell_type": "code",
   "execution_count": null,
   "metadata": {},
   "outputs": [],
   "source": []
  }
 ],
 "metadata": {
  "kernelspec": {
   "display_name": "Python 3",
   "language": "python",
   "name": "python3"
  },
  "language_info": {
   "codemirror_mode": {
    "name": "ipython",
    "version": 3
   },
   "file_extension": ".py",
   "mimetype": "text/x-python",
   "name": "python",
   "nbconvert_exporter": "python",
   "pygments_lexer": "ipython3",
   "version": "3.6.2"
  }
 },
 "nbformat": 4,
 "nbformat_minor": 2
}
