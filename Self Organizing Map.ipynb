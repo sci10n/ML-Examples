{
 "cells": [
  {
   "cell_type": "code",
   "execution_count": 1,
   "metadata": {},
   "outputs": [],
   "source": [
    "import tensorflow as tf\n",
    "import numpy as np"
   ]
  },
  {
   "cell_type": "code",
   "execution_count": 9,
   "metadata": {},
   "outputs": [],
   "source": [
    "class SOM:\n",
    "    def __init__(self,width,height,dim):\n",
    "        self.num_iters = 100\n",
    "        self.width = width\n",
    "        self.height = height\n",
    "        self.dim = dim\n",
    "        self.node_locs = self.get_locs()\n",
    "        \n",
    "        nodes = tf.Variable(tf.random_normal([width*height,dim]))\n",
    "        self.nodes = nodes\n",
    "        \n",
    "        x = tf.placeholder(tf.float32, [dim])\n",
    "        iter = tf.placeholder(tf.float32)\n",
    "        \n",
    "        self.x = x\n",
    "        self.iter = iter\n",
    "        \n",
    "        bmu_loc = self.get_bmu_loc(x)\n",
    "        self.propagate_nodes = self.get_propagation(bmu_loc, x, iter)\n",
    "        \n",
    "    def get_propagation(self, bmu_loc, x, iter):\n",
    "        num_nodes = self.width * self.height\n",
    "        rate = 1.0 - tf.div(iter, self.num_iters)\n",
    "        alpha = rate * 0.5\n",
    "        sigma = rate * tf.to_float(tf.maximum(self.width,self.height))/2.0\n",
    "        expanded_bmu_loc = tf.expand_dims(tf.to_float(bmu_loc),0)\n",
    "        sqr_dists_from_bmu = tf.reduce_sum(tf.square(tf.subtract(expanded_bmu_loc, self.node_locs)),1)\n",
    "        neigh_factor = tf.exp(-tf.div(sqr_dists_from_bmu, 2 * tf.square(sigma)))\n",
    "        rate = tf.multiply(alpha, neigh_factor)\n",
    "        rate_factor = tf.stack([tf.tile(tf.slice(rate, [i], [1]), [self.dim]) for i in range(num_nodes)])\n",
    "        nodes_diff = tf.multiply(rate_factor, tf.subtract(tf.stack([x for i in range(num_nodes)]), self.nodes))\n",
    "        update_nodes = tf.add(self.nodes, nodes_diff)\n",
    "        return tf.assign(self.nodes, update_nodes)\n",
    "    \n",
    "    def get_bmu_loc(self,x):\n",
    "        expanded_x = tf.expand_dims(x,0)\n",
    "        sqr_diff = tf.square(tf.subtract(expanded_x,self.nodes))\n",
    "        dists = tf.reduce_sum(sqr_diff,1)\n",
    "        bmu_idx = tf.argmin(dists,0)\n",
    "        bmu_loc = tf.stack([tf.mod(bmu_idx, self.width), tf.div(bmu_idx, self.width)])\n",
    "        return bmu_loc\n",
    "    \n",
    "    def get_locs(self):\n",
    "        locs = [[x,y] for y in range(self.height) for x in range(self.width)]\n",
    "        return tf.to_float(locs)\n",
    "    \n",
    "    def train(self,data):\n",
    "        with tf.Session() as sess:\n",
    "            sess.run(tf.global_variables_initializer())\n",
    "            for i in range(self.num_iters):\n",
    "                if(i % 5 == 0):\n",
    "                    print(i)\n",
    "                for data_x in data:\n",
    "                    sess.run(self.propagate_nodes, feed_dict={self.x:data_x, self.iter: i})\n",
    "            centroid_grid = [[] for i in range(self.width)]\n",
    "            self.nodes_val = list(sess.run(self.nodes))\n",
    "            self.locs_val = list(sess.run(self.node_locs))\n",
    "            for i, l in enumerate(self.locs_val):\n",
    "                centroid_grid[int(l[0])].append(self.nodes_val[i])\n",
    "            self.centroid_grid = centroid_grid"
   ]
  },
  {
   "cell_type": "code",
   "execution_count": 10,
   "metadata": {},
   "outputs": [
    {
     "name": "stdout",
     "output_type": "stream",
     "text": [
      "(150, 4)\n",
      "0\n",
      "5\n",
      "10\n",
      "15\n",
      "20\n",
      "25\n",
      "30\n",
      "35\n",
      "40\n",
      "45\n",
      "50\n",
      "55\n",
      "60\n",
      "65\n",
      "70\n",
      "75\n",
      "80\n",
      "85\n",
      "90\n",
      "95\n"
     ]
    }
   ],
   "source": [
    "%matplotlib inline\n",
    "import matplotlib.pyplot as plt\n",
    "from sklearn.datasets import load_iris\n",
    "\n",
    "digits = load_iris()\n",
    "print(digits.data.shape)\n",
    "\n",
    "som = SOM(64, 64, 4)\n",
    "som.train(digits.data)\n",
    "\n"
   ]
  },
  {
   "cell_type": "code",
   "execution_count": null,
   "metadata": {},
   "outputs": [],
   "source": []
  },
  {
   "cell_type": "code",
   "execution_count": 11,
   "metadata": {},
   "outputs": [],
   "source": [
    "a = np.zeros((som.width,som.height))\n",
    "for i in range(som.width):\n",
    "    for j in  range(som.height):\n",
    "        a[i,j] = np.linalg.norm(som.centroid_grid[i][j])"
   ]
  },
  {
   "cell_type": "code",
   "execution_count": 12,
   "metadata": {},
   "outputs": [
    {
     "data": {
      "image/png": "[encoded data removed]",
      "text/plain": [
       "<Figure size 288x288 with 1 Axes>"
      ]
     },
     "metadata": {},
     "output_type": "display_data"
    }
   ],
   "source": [
    "plt.matshow(a)\n",
    "plt.show()"
   ]
  },
  {
   "cell_type": "code",
   "execution_count": null,
   "metadata": {},
   "outputs": [],
   "source": []
  }
 ],
 "metadata": {
  "kernelspec": {
   "display_name": "Python 3",
   "language": "python",
   "name": "python3"
  },
  "language_info": {
   "codemirror_mode": {
    "name": "ipython",
    "version": 3
   },
   "file_extension": ".py",
   "mimetype": "text/x-python",
   "name": "python",
   "nbconvert_exporter": "python",
   "pygments_lexer": "ipython3",
   "version": "3.6.2"
  }
 },
 "nbformat": 4,
 "nbformat_minor": 2
}
